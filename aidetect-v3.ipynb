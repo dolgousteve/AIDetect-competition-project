{
 "cells": [
  {
   "cell_type": "code",
   "execution_count": 1,
   "id": "5501ab94",
   "metadata": {
    "execution": {
     "iopub.execute_input": "2025-02-27T01:20:56.185851Z",
     "iopub.status.busy": "2025-02-27T01:20:56.185367Z",
     "iopub.status.idle": "2025-02-27T01:20:57.835964Z",
     "shell.execute_reply": "2025-02-27T01:20:57.834620Z"
    },
    "papermill": {
     "duration": 1.657102,
     "end_time": "2025-02-27T01:20:57.838243",
     "exception": false,
     "start_time": "2025-02-27T01:20:56.181141",
     "status": "completed"
    },
    "tags": []
   },
   "outputs": [],
   "source": [
    "from openai import OpenAI\n",
    "\n",
    "def get_response(base64_image):\n",
    "    client = OpenAI(\n",
    "        api_key=\"sk-a35b6226861c459eaba77cb4e175677b\",\n",
    "        base_url=\"https://dashscope.aliyuncs.com/compatible-mode/v1\",\n",
    "    )\n",
    "\n",
    "    completion = client.chat.completions.create(\n",
    "        model=\"qwen2.5-vl-7b-instruct\",\n",
    "        messages=[\n",
    "            {\n",
    "                \"role\": \"system\",\n",
    "                \"content\": [{\"type\": \"text\", \"text\": \"You are a helpful assistant.\"}],\n",
    "            },\n",
    "            {\n",
    "                \"role\": \"user\",\n",
    "                \"content\": [\n",
    "                    {\n",
    "                        \"type\": \"image_url\",\n",
    "                        \"image_url\": {\"url\": f\"data:image/jpg;base64,{base64_image}\"},\n",
    "                    },\n",
    "                    {\"type\": \"text\", \"text\": \"判断图像是否由AI生成，是则输出“1”，否则输出“0”，不要输出多余内容\"},\n",
    "                ],\n",
    "            },\n",
    "        ],\n",
    "        temperature=0.1,\n",
    "    )\n",
    "\n",
    "    return completion.choices[0].message.content"
   ]
  },
  {
   "cell_type": "code",
   "execution_count": 2,
   "id": "dbfb8421",
   "metadata": {
    "execution": {
     "iopub.execute_input": "2025-02-27T01:20:57.844231Z",
     "iopub.status.busy": "2025-02-27T01:20:57.843851Z",
     "iopub.status.idle": "2025-02-27T01:20:57.848915Z",
     "shell.execute_reply": "2025-02-27T01:20:57.847849Z"
    },
    "papermill": {
     "duration": 0.009539,
     "end_time": "2025-02-27T01:20:57.850520",
     "exception": false,
     "start_time": "2025-02-27T01:20:57.840981",
     "status": "completed"
    },
    "tags": []
   },
   "outputs": [],
   "source": [
    "import base64\n",
    "\n",
    "\n",
    "#  base 64 编码格式\n",
    "def encode_image(image_path):\n",
    "    with open(image_path, \"rb\") as image_file:\n",
    "        return base64.b64encode(image_file.read()).decode(\"utf-8\")"
   ]
  },
  {
   "cell_type": "code",
   "execution_count": 3,
   "id": "27d77b94",
   "metadata": {
    "execution": {
     "iopub.execute_input": "2025-02-27T01:20:57.855440Z",
     "iopub.status.busy": "2025-02-27T01:20:57.855119Z",
     "iopub.status.idle": "2025-02-27T08:52:56.300038Z",
     "shell.execute_reply": "2025-02-27T08:52:56.298788Z"
    },
    "papermill": {
     "duration": 27118.751406,
     "end_time": "2025-02-27T08:52:56.603944",
     "exception": false,
     "start_time": "2025-02-27T01:20:57.852538",
     "status": "completed"
    },
    "tags": []
   },
   "outputs": [
    {
     "name": "stderr",
     "output_type": "stream",
     "text": [
      "100%|██████████| 5540/5540 [7:31:57<00:00,  4.89s/it]\n"
     ]
    }
   ],
   "source": [
    "from tqdm import tqdm\n",
    "import pandas as pd\n",
    "test_df=pd.read_csv(\"/kaggle/input/ai-vs-human-generated-dataset/test.csv\")\n",
    "output=pd.DataFrame({'id':[],'label':[]})\n",
    "for i in tqdm(range(len(test_df))):\n",
    "    img_path=\"/kaggle/input/ai-vs-human-generated-dataset/\"\n",
    "    img_path+=test_df.iloc[i]['id']\n",
    "    base64_image = encode_image(img_path)\n",
    "    t={'id':test_df.iloc[i]['id'],'label':get_response(base64_image)}\n",
    "    output.loc[i]=t\n"
   ]
  },
  {
   "cell_type": "code",
   "execution_count": 4,
   "id": "2ce5a8c1",
   "metadata": {
    "execution": {
     "iopub.execute_input": "2025-02-27T08:52:57.215274Z",
     "iopub.status.busy": "2025-02-27T08:52:57.214836Z",
     "iopub.status.idle": "2025-02-27T08:52:57.245315Z",
     "shell.execute_reply": "2025-02-27T08:52:57.243858Z"
    },
    "papermill": {
     "duration": 0.340202,
     "end_time": "2025-02-27T08:52:57.247746",
     "exception": false,
     "start_time": "2025-02-27T08:52:56.907544",
     "status": "completed"
    },
    "tags": []
   },
   "outputs": [],
   "source": [
    "output.to_csv(\"output_multimodal.csv\")"
   ]
  }
 ],
 "metadata": {
  "kaggle": {
   "accelerator": "none",
   "dataSources": [
    {
     "datasetId": 6412205,
     "sourceId": 10550636,
     "sourceType": "datasetVersion"
    }
   ],
   "dockerImageVersionId": 30918,
   "isGpuEnabled": false,
   "isInternetEnabled": true,
   "language": "python",
   "sourceType": "notebook"
  },
  "kernelspec": {
   "display_name": "Python 3",
   "language": "python",
   "name": "python3"
  },
  "language_info": {
   "codemirror_mode": {
    "name": "ipython",
    "version": 3
   },
   "file_extension": ".py",
   "mimetype": "text/x-python",
   "name": "python",
   "nbconvert_exporter": "python",
   "pygments_lexer": "ipython3",
   "version": "3.10.12"
  },
  "papermill": {
   "default_parameters": {},
   "duration": 27125.590039,
   "end_time": "2025-02-27T08:52:58.729865",
   "environment_variables": {},
   "exception": null,
   "input_path": "__notebook__.ipynb",
   "output_path": "__notebook__.ipynb",
   "parameters": {},
   "start_time": "2025-02-27T01:20:53.139826",
   "version": "2.6.0"
  }
 },
 "nbformat": 4,
 "nbformat_minor": 5
}
