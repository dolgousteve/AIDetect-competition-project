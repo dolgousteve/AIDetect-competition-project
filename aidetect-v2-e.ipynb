{
 "cells": [
  {
   "cell_type": "code",
   "execution_count": 1,
   "id": "1844ce12",
   "metadata": {
    "execution": {
     "iopub.execute_input": "2025-03-05T01:09:27.777272Z",
     "iopub.status.busy": "2025-03-05T01:09:27.776978Z",
     "iopub.status.idle": "2025-03-05T01:09:29.817593Z",
     "shell.execute_reply": "2025-03-05T01:09:29.816907Z"
    },
    "papermill": {
     "duration": 2.045764,
     "end_time": "2025-03-05T01:09:29.819198",
     "exception": false,
     "start_time": "2025-03-05T01:09:27.773434",
     "status": "completed"
    },
    "tags": []
   },
   "outputs": [],
   "source": [
    "import pandas as pd\n",
    "from sklearn.model_selection import train_test_split\n",
    "# 获取数据索引文件\n",
    "train_df=pd.read_csv(\"/kaggle/input/ai-vs-human-generated-dataset/train.csv\")\n",
    "test_df=pd.read_csv(\"/kaggle/input/ai-vs-human-generated-dataset/test.csv\")\n",
    "# 随机划分验证集\n",
    "train_df, valid_df = train_test_split(train_df, test_size=0.3, random_state=42)"
   ]
  },
  {
   "cell_type": "code",
   "execution_count": 2,
   "id": "f0bde5af",
   "metadata": {
    "execution": {
     "iopub.execute_input": "2025-03-05T01:09:29.824701Z",
     "iopub.status.busy": "2025-03-05T01:09:29.824346Z",
     "iopub.status.idle": "2025-03-05T01:09:37.633355Z",
     "shell.execute_reply": "2025-03-05T01:09:37.632653Z"
    },
    "papermill": {
     "duration": 7.813019,
     "end_time": "2025-03-05T01:09:37.634842",
     "exception": false,
     "start_time": "2025-03-05T01:09:29.821823",
     "status": "completed"
    },
    "tags": []
   },
   "outputs": [],
   "source": [
    "from torchvision import transforms\n",
    "# 定义数据预处理\n",
    "transform_enhanced = transforms.Compose([\n",
    "    transforms.Resize((512, 512)), \n",
    "    transforms.RandomCrop((224, 224)),  \n",
    "    transforms.RandomHorizontalFlip(p=0.5),\n",
    "    transforms.RandomVerticalFlip(p=0.5), \n",
    "    transforms.RandomInvert(p=0.5),\n",
    "    transforms.Resize((384, 384)),  \n",
    "    transforms.ToTensor(),\n",
    "    transforms.Normalize(mean=[0.485, 0.456, 0.406], std=[0.229, 0.224, 0.225]),  # 通用 ImageNet 预训练均值和标准差\n",
    "])\n",
    "transform = transforms.Compose([\n",
    "    transforms.Resize((384, 384)),  \n",
    "    transforms.ToTensor(),\n",
    "    transforms.Normalize(mean=[0.485, 0.456, 0.406], std=[0.229, 0.224, 0.225]),  # 通用 ImageNet 预训练均值和标准差\n",
    "])"
   ]
  },
  {
   "cell_type": "code",
   "execution_count": 3,
   "id": "4bc98492",
   "metadata": {
    "execution": {
     "iopub.execute_input": "2025-03-05T01:09:37.639956Z",
     "iopub.status.busy": "2025-03-05T01:09:37.639566Z",
     "iopub.status.idle": "2025-03-05T01:09:37.700423Z",
     "shell.execute_reply": "2025-03-05T01:09:37.699758Z"
    },
    "papermill": {
     "duration": 0.064552,
     "end_time": "2025-03-05T01:09:37.701624",
     "exception": false,
     "start_time": "2025-03-05T01:09:37.637072",
     "status": "completed"
    },
    "tags": []
   },
   "outputs": [],
   "source": [
    "import torch\n",
    "from torch.utils.data import Dataset\n",
    "import os\n",
    "from PIL import Image\n",
    "import random\n",
    "# 定义设备\n",
    "device = torch.device(\"cuda\" if torch.cuda.is_available() else \"cpu\")\n",
    "# 自定义数据集类\n",
    "class TrainDataset(Dataset):\n",
    "    def __init__(self,df):\n",
    "        self.df=df\n",
    "    def __getitem__(self,idx):\n",
    "        img_path=\"/kaggle/input/ai-vs-human-generated-dataset/\"\n",
    "        img_path+=self.df.iloc[idx]['file_name']\n",
    "        img=Image.open(img_path).convert(\"RGB\")\n",
    "        random_num=random.random()\n",
    "\n",
    "        if random_num%2==0:\n",
    "            img_tensor=transform_enhanced(img)\n",
    "        else:\n",
    "            img_tensor=transform(img)\n",
    "\n",
    "        label=self.df.iloc[idx]['label']\n",
    "        return img_tensor,label\n",
    "        \n",
    "    def __len__(self):\n",
    "        return len(self.df)\n",
    "\n",
    "class ValidDataset(Dataset):\n",
    "    def __init__(self,df):\n",
    "        self.df=df\n",
    "    def __getitem__(self,idx):\n",
    "        img_path=\"/kaggle/input/ai-vs-human-generated-dataset/\"\n",
    "        img_path+=self.df.iloc[idx]['file_name']\n",
    "        img=Image.open(img_path).convert(\"RGB\")\n",
    "        img_tensor=transform(img)\n",
    "        label=self.df.iloc[idx]['label']\n",
    "        return img_tensor,label\n",
    "    def __len__(self):\n",
    "        return len(self.df)\n",
    "\n",
    "class TestDataset(Dataset):\n",
    "    def __init__(self,df):\n",
    "        self.df=df\n",
    "    def __getitem__(self,idx):\n",
    "        img_path=\"/kaggle/input/ai-vs-human-generated-dataset/\"\n",
    "        img_path+=self.df.iloc[idx]['id']\n",
    "        img=Image.open(img_path).convert(\"RGB\")\n",
    "        img_tensor=transform(img)\n",
    "        return img_tensor\n",
    "    def __len__(self):\n",
    "        return len(self.df)\n",
    "\n",
    "# 自定义数据集\n",
    "train_dataset=TrainDataset(train_df)\n",
    "valid_dataset=ValidDataset(valid_df)\n",
    "test_dataset=TestDataset(test_df)"
   ]
  },
  {
   "cell_type": "code",
   "execution_count": 4,
   "id": "2eb247cb",
   "metadata": {
    "execution": {
     "iopub.execute_input": "2025-03-05T01:09:37.706360Z",
     "iopub.status.busy": "2025-03-05T01:09:37.706147Z",
     "iopub.status.idle": "2025-03-05T01:09:37.709834Z",
     "shell.execute_reply": "2025-03-05T01:09:37.709203Z"
    },
    "papermill": {
     "duration": 0.007394,
     "end_time": "2025-03-05T01:09:37.711107",
     "exception": false,
     "start_time": "2025-03-05T01:09:37.703713",
     "status": "completed"
    },
    "tags": []
   },
   "outputs": [],
   "source": [
    "from torch.utils.data import DataLoader\n",
    "# 定义加载器\n",
    "train_dataloader=DataLoader(train_dataset,batch_size=16,shuffle=True)\n",
    "valid_dataloader=DataLoader(valid_dataset,batch_size=16,shuffle=True)\n",
    "test_dataloader=DataLoader(test_dataset,batch_size=16,shuffle=False)"
   ]
  },
  {
   "cell_type": "code",
   "execution_count": 5,
   "id": "41d8601f",
   "metadata": {
    "execution": {
     "iopub.execute_input": "2025-03-05T01:09:37.715769Z",
     "iopub.status.busy": "2025-03-05T01:09:37.715502Z",
     "iopub.status.idle": "2025-03-05T01:09:42.273470Z",
     "shell.execute_reply": "2025-03-05T01:09:42.272515Z"
    },
    "papermill": {
     "duration": 4.562231,
     "end_time": "2025-03-05T01:09:42.275260",
     "exception": false,
     "start_time": "2025-03-05T01:09:37.713029",
     "status": "completed"
    },
    "tags": []
   },
   "outputs": [
    {
     "data": {
      "application/vnd.jupyter.widget-view+json": {
       "model_id": "572a6d721bf84ab9a7c627c46f0c5c3a",
       "version_major": 2,
       "version_minor": 0
      },
      "text/plain": [
       "model.safetensors:   0%|          | 0.00/86.5M [00:00<?, ?B/s]"
      ]
     },
     "metadata": {},
     "output_type": "display_data"
    }
   ],
   "source": [
    "import tqdm\n",
    "import timm\n",
    "from torch import nn\n",
    "from torch.optim.lr_scheduler import StepLR\n",
    "\n",
    "# 定义模型\n",
    "model = timm.create_model('tf_efficientnetv2_s.in21k_ft_in1k', \n",
    "                          pretrained=True,\n",
    "                         num_classes=2).to(device)\n",
    "\n",
    "# 定义损失函数、优化器、调度器\n",
    "criterion = nn.CrossEntropyLoss()\n",
    "optimizer = torch.optim.Adam(model.parameters(), lr=6e-6, weight_decay=1e-2)\n",
    "scheduler = StepLR(optimizer, step_size=1, gamma=0.5)\n"
   ]
  },
  {
   "cell_type": "code",
   "execution_count": 6,
   "id": "83b9d25d",
   "metadata": {
    "execution": {
     "iopub.execute_input": "2025-03-05T01:09:42.280722Z",
     "iopub.status.busy": "2025-03-05T01:09:42.280487Z",
     "iopub.status.idle": "2025-03-05T01:09:42.292292Z",
     "shell.execute_reply": "2025-03-05T01:09:42.291558Z"
    },
    "papermill": {
     "duration": 0.01579,
     "end_time": "2025-03-05T01:09:42.293491",
     "exception": false,
     "start_time": "2025-03-05T01:09:42.277701",
     "status": "completed"
    },
    "tags": []
   },
   "outputs": [],
   "source": [
    "from tqdm  import tqdm\n",
    "def train(model,criterion,optimizer,scheduler,train_dataloader,valid_dataloader):\n",
    "    total_loss = 0\n",
    "    total=0\n",
    "    tp=0\n",
    "    fp=0\n",
    "    fn=0\n",
    "    model.train()\n",
    "    s=0\n",
    "    # 训练\n",
    "    for batch,(tensor,label) in tqdm(enumerate(train_dataloader)):\n",
    "        \n",
    "        inputs=tensor.to(device)\n",
    "        labels=label.to(device)\n",
    "        total+=labels.size()[0]\n",
    "        optimizer.zero_grad()\n",
    "        outputs = model(inputs)\n",
    "        loss = criterion(outputs, labels)\n",
    "        loss.backward()\n",
    "        optimizer.step()\n",
    "        total_loss += loss.item()\n",
    "        predictions = torch.argmax(outputs, dim=1)\n",
    "        for i in range(predictions.size()[0]):\n",
    "            if(predictions[i].item() == labels[i].item() and labels[i].item()==1):\n",
    "                tp+=1\n",
    "            if(predictions[i].item() != labels[i].item() and labels[i].item()==1):\n",
    "                fp+=1\n",
    "            if(predictions[i].item() != labels[i].item() and labels[i].item()==0):\n",
    "                fn+=1\n",
    "        \n",
    "        s+=1\n",
    "        if(s%250==0):\n",
    "            print(f\"当前总精度为：{(total-fp-fn)/total:.4f}\")\n",
    "    \n",
    "    p=tp/(tp+fp)\n",
    "    r=tp/(tp+fn)\n",
    "    f1=2*p*r/(p+r)\n",
    "    # 验证\n",
    "    model.eval()\n",
    "    total_loss2 = 0\n",
    "    total2=0\n",
    "    tp2=0\n",
    "    fp2=0\n",
    "    fn2=0\n",
    "    for batch,(tensor,label) in tqdm(enumerate(valid_dataloader)):\n",
    "        \n",
    "        inputs=tensor.to(device)\n",
    "        labels=label.to(device)\n",
    "        total2+=labels.size()[0]\n",
    "        with torch.no_grad():\n",
    "            outputs = model(inputs)\n",
    "        loss = criterion(outputs, labels)\n",
    "\n",
    "        total_loss2 += loss.item()\n",
    "        predictions = torch.argmax(outputs, dim=1)\n",
    "        for i in range(predictions.size()[0]):\n",
    "            if(predictions[i].item() == labels[i].item() and labels[i].item()==1):\n",
    "                tp2+=1\n",
    "            if(predictions[i].item() != labels[i].item() and labels[i].item()==1):\n",
    "                fp2+=1\n",
    "            if(predictions[i].item() != labels[i].item() and labels[i].item()==0):\n",
    "                fn2+=1\n",
    "    p2=tp2/(tp2+fp2)\n",
    "    r2=tp2/(tp2+fn2)\n",
    "    f12=2*p2*r2/(p2+r2)\n",
    "    scheduler.step()\n",
    "    return (total-fp-fn)/total,f1,(total2-fp2-fn2)/total2,f12\n",
    "\n",
    "\n",
    "def test(model,criterion,optimizer,scheduler,test_dataloader,epoch):\n",
    "    output=pd.DataFrame({'id':[],'label':[]})\n",
    "    index=0\n",
    "    for batch,tensor in tqdm(enumerate(test_dataloader)):\n",
    "        model.eval()\n",
    "        inputs=tensor.to(device)\n",
    "        with torch.no_grad():\n",
    "            outputs = model(inputs)\n",
    "        predictions = torch.argmax(outputs, dim=1)\n",
    "        for i in range(predictions.size()[0]):\n",
    "            t={'id':test_df.iloc[index]['id'],'label':predictions[i].item()}\n",
    "            output.loc[index]=t\n",
    "            index+=1\n",
    "    output.to_csv(f\"output_{epoch+1}epoch.csv\",index=False)"
   ]
  },
  {
   "cell_type": "code",
   "execution_count": 7,
   "id": "36da6e87",
   "metadata": {
    "execution": {
     "iopub.execute_input": "2025-03-05T01:09:42.298232Z",
     "iopub.status.busy": "2025-03-05T01:09:42.298030Z",
     "iopub.status.idle": "2025-03-05T04:38:55.185848Z",
     "shell.execute_reply": "2025-03-05T04:38:55.185022Z"
    },
    "papermill": {
     "duration": 12552.891727,
     "end_time": "2025-03-05T04:38:55.187251",
     "exception": false,
     "start_time": "2025-03-05T01:09:42.295524",
     "status": "completed"
    },
    "tags": []
   },
   "outputs": [
    {
     "name": "stderr",
     "output_type": "stream",
     "text": [
      "250it [02:04,  2.04it/s]"
     ]
    },
    {
     "name": "stdout",
     "output_type": "stream",
     "text": [
      "当前总精度为：0.6552\n"
     ]
    },
    {
     "name": "stderr",
     "output_type": "stream",
     "text": [
      "500it [04:07,  2.05it/s]"
     ]
    },
    {
     "name": "stdout",
     "output_type": "stream",
     "text": [
      "当前总精度为：0.7370\n"
     ]
    },
    {
     "name": "stderr",
     "output_type": "stream",
     "text": [
      "750it [06:10,  2.05it/s]"
     ]
    },
    {
     "name": "stdout",
     "output_type": "stream",
     "text": [
      "当前总精度为：0.7800\n"
     ]
    },
    {
     "name": "stderr",
     "output_type": "stream",
     "text": [
      "1000it [08:13,  2.04it/s]"
     ]
    },
    {
     "name": "stdout",
     "output_type": "stream",
     "text": [
      "当前总精度为：0.8083\n"
     ]
    },
    {
     "name": "stderr",
     "output_type": "stream",
     "text": [
      "1250it [10:15,  2.04it/s]"
     ]
    },
    {
     "name": "stdout",
     "output_type": "stream",
     "text": [
      "当前总精度为：0.8285\n"
     ]
    },
    {
     "name": "stderr",
     "output_type": "stream",
     "text": [
      "1500it [12:18,  1.97it/s]"
     ]
    },
    {
     "name": "stdout",
     "output_type": "stream",
     "text": [
      "当前总精度为：0.8455\n"
     ]
    },
    {
     "name": "stderr",
     "output_type": "stream",
     "text": [
      "1750it [14:23,  1.89it/s]"
     ]
    },
    {
     "name": "stdout",
     "output_type": "stream",
     "text": [
      "当前总精度为：0.8584\n"
     ]
    },
    {
     "name": "stderr",
     "output_type": "stream",
     "text": [
      "2000it [16:27,  1.99it/s]"
     ]
    },
    {
     "name": "stdout",
     "output_type": "stream",
     "text": [
      "当前总精度为：0.8694\n"
     ]
    },
    {
     "name": "stderr",
     "output_type": "stream",
     "text": [
      "2250it [18:33,  2.02it/s]"
     ]
    },
    {
     "name": "stdout",
     "output_type": "stream",
     "text": [
      "当前总精度为：0.8788\n"
     ]
    },
    {
     "name": "stderr",
     "output_type": "stream",
     "text": [
      "2500it [20:42,  1.96it/s]"
     ]
    },
    {
     "name": "stdout",
     "output_type": "stream",
     "text": [
      "当前总精度为：0.8870\n"
     ]
    },
    {
     "name": "stderr",
     "output_type": "stream",
     "text": [
      "2750it [22:48,  1.94it/s]"
     ]
    },
    {
     "name": "stdout",
     "output_type": "stream",
     "text": [
      "当前总精度为：0.8941\n"
     ]
    },
    {
     "name": "stderr",
     "output_type": "stream",
     "text": [
      "3000it [24:54,  2.03it/s]"
     ]
    },
    {
     "name": "stdout",
     "output_type": "stream",
     "text": [
      "当前总精度为：0.9004\n"
     ]
    },
    {
     "name": "stderr",
     "output_type": "stream",
     "text": [
      "3250it [27:00,  2.01it/s]"
     ]
    },
    {
     "name": "stdout",
     "output_type": "stream",
     "text": [
      "当前总精度为：0.9054\n"
     ]
    },
    {
     "name": "stderr",
     "output_type": "stream",
     "text": [
      "3498it [29:05,  2.00it/s]\n",
      "1500it [07:21,  3.39it/s]\n"
     ]
    },
    {
     "name": "stdout",
     "output_type": "stream",
     "text": [
      "第1轮训练总精度为：0.9102\n",
      "第1轮训练f1score为：0.9109\n",
      "第1轮验证总精度为：0.9840\n",
      "第1轮验证f1score为：0.9842\n"
     ]
    },
    {
     "name": "stderr",
     "output_type": "stream",
     "text": [
      "347it [04:52,  1.19it/s]\n",
      "250it [01:48,  2.31it/s]"
     ]
    },
    {
     "name": "stdout",
     "output_type": "stream",
     "text": [
      "当前总精度为：0.9740\n"
     ]
    },
    {
     "name": "stderr",
     "output_type": "stream",
     "text": [
      "500it [03:36,  2.34it/s]"
     ]
    },
    {
     "name": "stdout",
     "output_type": "stream",
     "text": [
      "当前总精度为：0.9779\n"
     ]
    },
    {
     "name": "stderr",
     "output_type": "stream",
     "text": [
      "750it [05:24,  2.32it/s]"
     ]
    },
    {
     "name": "stdout",
     "output_type": "stream",
     "text": [
      "当前总精度为：0.9777\n"
     ]
    },
    {
     "name": "stderr",
     "output_type": "stream",
     "text": [
      "1000it [07:13,  2.30it/s]"
     ]
    },
    {
     "name": "stdout",
     "output_type": "stream",
     "text": [
      "当前总精度为：0.9784\n"
     ]
    },
    {
     "name": "stderr",
     "output_type": "stream",
     "text": [
      "1250it [09:03,  2.32it/s]"
     ]
    },
    {
     "name": "stdout",
     "output_type": "stream",
     "text": [
      "当前总精度为：0.9789\n"
     ]
    },
    {
     "name": "stderr",
     "output_type": "stream",
     "text": [
      "1500it [10:52,  2.30it/s]"
     ]
    },
    {
     "name": "stdout",
     "output_type": "stream",
     "text": [
      "当前总精度为：0.9800\n"
     ]
    },
    {
     "name": "stderr",
     "output_type": "stream",
     "text": [
      "1750it [12:42,  2.30it/s]"
     ]
    },
    {
     "name": "stdout",
     "output_type": "stream",
     "text": [
      "当前总精度为：0.9800\n"
     ]
    },
    {
     "name": "stderr",
     "output_type": "stream",
     "text": [
      "2000it [14:32,  2.30it/s]"
     ]
    },
    {
     "name": "stdout",
     "output_type": "stream",
     "text": [
      "当前总精度为：0.9799\n"
     ]
    },
    {
     "name": "stderr",
     "output_type": "stream",
     "text": [
      "2250it [16:22,  2.30it/s]"
     ]
    },
    {
     "name": "stdout",
     "output_type": "stream",
     "text": [
      "当前总精度为：0.9802\n"
     ]
    },
    {
     "name": "stderr",
     "output_type": "stream",
     "text": [
      "2500it [18:11,  2.29it/s]"
     ]
    },
    {
     "name": "stdout",
     "output_type": "stream",
     "text": [
      "当前总精度为：0.9802\n"
     ]
    },
    {
     "name": "stderr",
     "output_type": "stream",
     "text": [
      "2750it [19:59,  2.30it/s]"
     ]
    },
    {
     "name": "stdout",
     "output_type": "stream",
     "text": [
      "当前总精度为：0.9805\n"
     ]
    },
    {
     "name": "stderr",
     "output_type": "stream",
     "text": [
      "3000it [21:48,  2.35it/s]"
     ]
    },
    {
     "name": "stdout",
     "output_type": "stream",
     "text": [
      "当前总精度为：0.9809\n"
     ]
    },
    {
     "name": "stderr",
     "output_type": "stream",
     "text": [
      "3250it [23:35,  2.35it/s]"
     ]
    },
    {
     "name": "stdout",
     "output_type": "stream",
     "text": [
      "当前总精度为：0.9813\n"
     ]
    },
    {
     "name": "stderr",
     "output_type": "stream",
     "text": [
      "3498it [25:22,  2.30it/s]\n",
      "1500it [05:24,  4.62it/s]\n"
     ]
    },
    {
     "name": "stdout",
     "output_type": "stream",
     "text": [
      "第2轮训练总精度为：0.9816\n",
      "第2轮训练f1score为：0.9816\n",
      "第2轮验证总精度为：0.9913\n",
      "第2轮验证f1score为：0.9913\n"
     ]
    },
    {
     "name": "stderr",
     "output_type": "stream",
     "text": [
      "347it [02:56,  1.97it/s]\n",
      "250it [01:48,  2.33it/s]"
     ]
    },
    {
     "name": "stdout",
     "output_type": "stream",
     "text": [
      "当前总精度为：0.9835\n"
     ]
    },
    {
     "name": "stderr",
     "output_type": "stream",
     "text": [
      "500it [03:37,  2.30it/s]"
     ]
    },
    {
     "name": "stdout",
     "output_type": "stream",
     "text": [
      "当前总精度为：0.9835\n"
     ]
    },
    {
     "name": "stderr",
     "output_type": "stream",
     "text": [
      "750it [05:25,  2.32it/s]"
     ]
    },
    {
     "name": "stdout",
     "output_type": "stream",
     "text": [
      "当前总精度为：0.9842\n"
     ]
    },
    {
     "name": "stderr",
     "output_type": "stream",
     "text": [
      "1000it [07:13,  2.34it/s]"
     ]
    },
    {
     "name": "stdout",
     "output_type": "stream",
     "text": [
      "当前总精度为：0.9853\n"
     ]
    },
    {
     "name": "stderr",
     "output_type": "stream",
     "text": [
      "1250it [09:00,  2.34it/s]"
     ]
    },
    {
     "name": "stdout",
     "output_type": "stream",
     "text": [
      "当前总精度为：0.9857\n"
     ]
    },
    {
     "name": "stderr",
     "output_type": "stream",
     "text": [
      "1500it [10:48,  2.34it/s]"
     ]
    },
    {
     "name": "stdout",
     "output_type": "stream",
     "text": [
      "当前总精度为：0.9860\n"
     ]
    },
    {
     "name": "stderr",
     "output_type": "stream",
     "text": [
      "1750it [12:35,  2.33it/s]"
     ]
    },
    {
     "name": "stdout",
     "output_type": "stream",
     "text": [
      "当前总精度为：0.9864\n"
     ]
    },
    {
     "name": "stderr",
     "output_type": "stream",
     "text": [
      "2000it [14:22,  2.37it/s]"
     ]
    },
    {
     "name": "stdout",
     "output_type": "stream",
     "text": [
      "当前总精度为：0.9864\n"
     ]
    },
    {
     "name": "stderr",
     "output_type": "stream",
     "text": [
      "2250it [16:10,  2.26it/s]"
     ]
    },
    {
     "name": "stdout",
     "output_type": "stream",
     "text": [
      "当前总精度为：0.9863\n"
     ]
    },
    {
     "name": "stderr",
     "output_type": "stream",
     "text": [
      "2500it [17:58,  2.33it/s]"
     ]
    },
    {
     "name": "stdout",
     "output_type": "stream",
     "text": [
      "当前总精度为：0.9868\n"
     ]
    },
    {
     "name": "stderr",
     "output_type": "stream",
     "text": [
      "2750it [19:46,  2.35it/s]"
     ]
    },
    {
     "name": "stdout",
     "output_type": "stream",
     "text": [
      "当前总精度为：0.9868\n"
     ]
    },
    {
     "name": "stderr",
     "output_type": "stream",
     "text": [
      "3000it [21:34,  2.25it/s]"
     ]
    },
    {
     "name": "stdout",
     "output_type": "stream",
     "text": [
      "当前总精度为：0.9870\n"
     ]
    },
    {
     "name": "stderr",
     "output_type": "stream",
     "text": [
      "3250it [23:22,  2.35it/s]"
     ]
    },
    {
     "name": "stdout",
     "output_type": "stream",
     "text": [
      "当前总精度为：0.9870\n"
     ]
    },
    {
     "name": "stderr",
     "output_type": "stream",
     "text": [
      "3498it [25:09,  2.32it/s]\n",
      "1500it [05:26,  4.59it/s]\n"
     ]
    },
    {
     "name": "stdout",
     "output_type": "stream",
     "text": [
      "第3轮训练总精度为：0.9869\n",
      "第3轮训练f1score为：0.9869\n",
      "第3轮验证总精度为：0.9917\n",
      "第3轮验证f1score为：0.9917\n"
     ]
    },
    {
     "name": "stderr",
     "output_type": "stream",
     "text": [
      "347it [02:49,  2.04it/s]\n",
      "250it [01:47,  2.28it/s]"
     ]
    },
    {
     "name": "stdout",
     "output_type": "stream",
     "text": [
      "当前总精度为：0.9942\n"
     ]
    },
    {
     "name": "stderr",
     "output_type": "stream",
     "text": [
      "500it [03:34,  2.32it/s]"
     ]
    },
    {
     "name": "stdout",
     "output_type": "stream",
     "text": [
      "当前总精度为：0.9914\n"
     ]
    },
    {
     "name": "stderr",
     "output_type": "stream",
     "text": [
      "750it [05:24,  2.04it/s]"
     ]
    },
    {
     "name": "stdout",
     "output_type": "stream",
     "text": [
      "当前总精度为：0.9902\n"
     ]
    },
    {
     "name": "stderr",
     "output_type": "stream",
     "text": [
      "1000it [07:12,  2.31it/s]"
     ]
    },
    {
     "name": "stdout",
     "output_type": "stream",
     "text": [
      "当前总精度为：0.9902\n"
     ]
    },
    {
     "name": "stderr",
     "output_type": "stream",
     "text": [
      "1250it [09:01,  2.22it/s]"
     ]
    },
    {
     "name": "stdout",
     "output_type": "stream",
     "text": [
      "当前总精度为：0.9903\n"
     ]
    },
    {
     "name": "stderr",
     "output_type": "stream",
     "text": [
      "1500it [10:49,  2.33it/s]"
     ]
    },
    {
     "name": "stdout",
     "output_type": "stream",
     "text": [
      "当前总精度为：0.9903\n"
     ]
    },
    {
     "name": "stderr",
     "output_type": "stream",
     "text": [
      "1750it [12:37,  2.36it/s]"
     ]
    },
    {
     "name": "stdout",
     "output_type": "stream",
     "text": [
      "当前总精度为：0.9901\n"
     ]
    },
    {
     "name": "stderr",
     "output_type": "stream",
     "text": [
      "2000it [14:25,  2.36it/s]"
     ]
    },
    {
     "name": "stdout",
     "output_type": "stream",
     "text": [
      "当前总精度为：0.9899\n"
     ]
    },
    {
     "name": "stderr",
     "output_type": "stream",
     "text": [
      "2250it [16:14,  2.18it/s]"
     ]
    },
    {
     "name": "stdout",
     "output_type": "stream",
     "text": [
      "当前总精度为：0.9898\n"
     ]
    },
    {
     "name": "stderr",
     "output_type": "stream",
     "text": [
      "2500it [18:05,  2.29it/s]"
     ]
    },
    {
     "name": "stdout",
     "output_type": "stream",
     "text": [
      "当前总精度为：0.9899\n"
     ]
    },
    {
     "name": "stderr",
     "output_type": "stream",
     "text": [
      "2750it [19:53,  2.33it/s]"
     ]
    },
    {
     "name": "stdout",
     "output_type": "stream",
     "text": [
      "当前总精度为：0.9900\n"
     ]
    },
    {
     "name": "stderr",
     "output_type": "stream",
     "text": [
      "3000it [21:41,  2.33it/s]"
     ]
    },
    {
     "name": "stdout",
     "output_type": "stream",
     "text": [
      "当前总精度为：0.9899\n"
     ]
    },
    {
     "name": "stderr",
     "output_type": "stream",
     "text": [
      "3250it [23:29,  2.32it/s]"
     ]
    },
    {
     "name": "stdout",
     "output_type": "stream",
     "text": [
      "当前总精度为：0.9900\n"
     ]
    },
    {
     "name": "stderr",
     "output_type": "stream",
     "text": [
      "3498it [25:15,  2.31it/s]\n",
      "1500it [05:24,  4.63it/s]\n"
     ]
    },
    {
     "name": "stdout",
     "output_type": "stream",
     "text": [
      "第4轮训练总精度为：0.9902\n",
      "第4轮训练f1score为：0.9901\n",
      "第4轮验证总精度为：0.9934\n",
      "第4轮验证f1score为：0.9934\n"
     ]
    },
    {
     "name": "stderr",
     "output_type": "stream",
     "text": [
      "347it [02:49,  2.04it/s]\n",
      "250it [01:48,  2.32it/s]"
     ]
    },
    {
     "name": "stdout",
     "output_type": "stream",
     "text": [
      "当前总精度为：0.9862\n"
     ]
    },
    {
     "name": "stderr",
     "output_type": "stream",
     "text": [
      "500it [03:36,  2.36it/s]"
     ]
    },
    {
     "name": "stdout",
     "output_type": "stream",
     "text": [
      "当前总精度为：0.9895\n"
     ]
    },
    {
     "name": "stderr",
     "output_type": "stream",
     "text": [
      "750it [05:23,  2.34it/s]"
     ]
    },
    {
     "name": "stdout",
     "output_type": "stream",
     "text": [
      "当前总精度为：0.9902\n"
     ]
    },
    {
     "name": "stderr",
     "output_type": "stream",
     "text": [
      "1000it [07:11,  2.29it/s]"
     ]
    },
    {
     "name": "stdout",
     "output_type": "stream",
     "text": [
      "当前总精度为：0.9904\n"
     ]
    },
    {
     "name": "stderr",
     "output_type": "stream",
     "text": [
      "1250it [08:59,  2.31it/s]"
     ]
    },
    {
     "name": "stdout",
     "output_type": "stream",
     "text": [
      "当前总精度为：0.9906\n"
     ]
    },
    {
     "name": "stderr",
     "output_type": "stream",
     "text": [
      "1500it [10:47,  2.35it/s]"
     ]
    },
    {
     "name": "stdout",
     "output_type": "stream",
     "text": [
      "当前总精度为：0.9899\n"
     ]
    },
    {
     "name": "stderr",
     "output_type": "stream",
     "text": [
      "1750it [12:35,  2.31it/s]"
     ]
    },
    {
     "name": "stdout",
     "output_type": "stream",
     "text": [
      "当前总精度为：0.9901\n"
     ]
    },
    {
     "name": "stderr",
     "output_type": "stream",
     "text": [
      "2000it [14:22,  2.35it/s]"
     ]
    },
    {
     "name": "stdout",
     "output_type": "stream",
     "text": [
      "当前总精度为：0.9899\n"
     ]
    },
    {
     "name": "stderr",
     "output_type": "stream",
     "text": [
      "2250it [16:09,  2.26it/s]"
     ]
    },
    {
     "name": "stdout",
     "output_type": "stream",
     "text": [
      "当前总精度为：0.9905\n"
     ]
    },
    {
     "name": "stderr",
     "output_type": "stream",
     "text": [
      "2500it [17:57,  2.37it/s]"
     ]
    },
    {
     "name": "stdout",
     "output_type": "stream",
     "text": [
      "当前总精度为：0.9905\n"
     ]
    },
    {
     "name": "stderr",
     "output_type": "stream",
     "text": [
      "2750it [19:45,  2.37it/s]"
     ]
    },
    {
     "name": "stdout",
     "output_type": "stream",
     "text": [
      "当前总精度为：0.9907\n"
     ]
    },
    {
     "name": "stderr",
     "output_type": "stream",
     "text": [
      "3000it [21:33,  2.35it/s]"
     ]
    },
    {
     "name": "stdout",
     "output_type": "stream",
     "text": [
      "当前总精度为：0.9908\n"
     ]
    },
    {
     "name": "stderr",
     "output_type": "stream",
     "text": [
      "3250it [23:21,  2.35it/s]"
     ]
    },
    {
     "name": "stdout",
     "output_type": "stream",
     "text": [
      "当前总精度为：0.9907\n"
     ]
    },
    {
     "name": "stderr",
     "output_type": "stream",
     "text": [
      "3498it [25:08,  2.32it/s]\n",
      "1500it [05:27,  4.58it/s]\n"
     ]
    },
    {
     "name": "stdout",
     "output_type": "stream",
     "text": [
      "第5轮训练总精度为：0.9908\n",
      "第5轮训练f1score为：0.9908\n",
      "第5轮验证总精度为：0.9939\n",
      "第5轮验证f1score为：0.9939\n"
     ]
    },
    {
     "name": "stderr",
     "output_type": "stream",
     "text": [
      "347it [02:51,  2.02it/s]\n",
      "250it [01:48,  2.32it/s]"
     ]
    },
    {
     "name": "stdout",
     "output_type": "stream",
     "text": [
      "当前总精度为：0.9898\n"
     ]
    },
    {
     "name": "stderr",
     "output_type": "stream",
     "text": [
      "500it [03:37,  2.34it/s]"
     ]
    },
    {
     "name": "stdout",
     "output_type": "stream",
     "text": [
      "当前总精度为：0.9904\n"
     ]
    },
    {
     "name": "stderr",
     "output_type": "stream",
     "text": [
      "750it [05:25,  2.33it/s]"
     ]
    },
    {
     "name": "stdout",
     "output_type": "stream",
     "text": [
      "当前总精度为：0.9910\n"
     ]
    },
    {
     "name": "stderr",
     "output_type": "stream",
     "text": [
      "1000it [07:15,  2.31it/s]"
     ]
    },
    {
     "name": "stdout",
     "output_type": "stream",
     "text": [
      "当前总精度为：0.9911\n"
     ]
    },
    {
     "name": "stderr",
     "output_type": "stream",
     "text": [
      "1250it [09:04,  2.29it/s]"
     ]
    },
    {
     "name": "stdout",
     "output_type": "stream",
     "text": [
      "当前总精度为：0.9912\n"
     ]
    },
    {
     "name": "stderr",
     "output_type": "stream",
     "text": [
      "1500it [10:53,  2.28it/s]"
     ]
    },
    {
     "name": "stdout",
     "output_type": "stream",
     "text": [
      "当前总精度为：0.9913\n"
     ]
    },
    {
     "name": "stderr",
     "output_type": "stream",
     "text": [
      "1750it [12:42,  2.31it/s]"
     ]
    },
    {
     "name": "stdout",
     "output_type": "stream",
     "text": [
      "当前总精度为：0.9907\n"
     ]
    },
    {
     "name": "stderr",
     "output_type": "stream",
     "text": [
      "2000it [14:31,  2.29it/s]"
     ]
    },
    {
     "name": "stdout",
     "output_type": "stream",
     "text": [
      "当前总精度为：0.9912\n"
     ]
    },
    {
     "name": "stderr",
     "output_type": "stream",
     "text": [
      "2250it [16:21,  2.33it/s]"
     ]
    },
    {
     "name": "stdout",
     "output_type": "stream",
     "text": [
      "当前总精度为：0.9912\n"
     ]
    },
    {
     "name": "stderr",
     "output_type": "stream",
     "text": [
      "2500it [18:10,  2.26it/s]"
     ]
    },
    {
     "name": "stdout",
     "output_type": "stream",
     "text": [
      "当前总精度为：0.9911\n"
     ]
    },
    {
     "name": "stderr",
     "output_type": "stream",
     "text": [
      "2750it [19:59,  2.32it/s]"
     ]
    },
    {
     "name": "stdout",
     "output_type": "stream",
     "text": [
      "当前总精度为：0.9910\n"
     ]
    },
    {
     "name": "stderr",
     "output_type": "stream",
     "text": [
      "3000it [21:47,  2.33it/s]"
     ]
    },
    {
     "name": "stdout",
     "output_type": "stream",
     "text": [
      "当前总精度为：0.9911\n"
     ]
    },
    {
     "name": "stderr",
     "output_type": "stream",
     "text": [
      "3250it [23:35,  2.27it/s]"
     ]
    },
    {
     "name": "stdout",
     "output_type": "stream",
     "text": [
      "当前总精度为：0.9913\n"
     ]
    },
    {
     "name": "stderr",
     "output_type": "stream",
     "text": [
      "3498it [25:22,  2.30it/s]\n",
      "1500it [05:27,  4.57it/s]\n"
     ]
    },
    {
     "name": "stdout",
     "output_type": "stream",
     "text": [
      "第6轮训练总精度为：0.9915\n",
      "第6轮训练f1score为：0.9915\n",
      "第6轮验证总精度为：0.9930\n",
      "第6轮验证f1score为：0.9930\n"
     ]
    },
    {
     "name": "stderr",
     "output_type": "stream",
     "text": [
      "347it [02:54,  1.99it/s]\n"
     ]
    }
   ],
   "source": [
    "for epoch in range(0,6):\n",
    "    train_acc,train_f1,valid_acc,valid_f1=train(model,criterion,optimizer,scheduler,train_dataloader,valid_dataloader)\n",
    "\n",
    "    print(f\"第{epoch+1}轮训练总精度为：{train_acc:.4f}\")\n",
    "    print(f\"第{epoch+1}轮训练f1score为：{train_f1:.4f}\")\n",
    "\n",
    "    print(f\"第{epoch+1}轮验证总精度为：{valid_acc:.4f}\")\n",
    "    print(f\"第{epoch+1}轮验证f1score为：{valid_f1:.4f}\")\n",
    "    \n",
    "    test(model,criterion,optimizer,scheduler,test_dataloader,epoch)"
   ]
  }
 ],
 "metadata": {
  "kaggle": {
   "accelerator": "gpu",
   "dataSources": [
    {
     "datasetId": 6412205,
     "sourceId": 10550636,
     "sourceType": "datasetVersion"
    }
   ],
   "dockerImageVersionId": 30918,
   "isGpuEnabled": true,
   "isInternetEnabled": true,
   "language": "python",
   "sourceType": "notebook"
  },
  "kernelspec": {
   "display_name": "Python 3",
   "language": "python",
   "name": "python3"
  },
  "language_info": {
   "codemirror_mode": {
    "name": "ipython",
    "version": 3
   },
   "file_extension": ".py",
   "mimetype": "text/x-python",
   "name": "python",
   "nbconvert_exporter": "python",
   "pygments_lexer": "ipython3",
   "version": "3.10.12"
  },
  "papermill": {
   "default_parameters": {},
   "duration": 12574.144603,
   "end_time": "2025-03-05T04:38:59.358602",
   "environment_variables": {},
   "exception": null,
   "input_path": "__notebook__.ipynb",
   "output_path": "__notebook__.ipynb",
   "parameters": {},
   "start_time": "2025-03-05T01:09:25.213999",
   "version": "2.6.0"
  },
  "widgets": {
   "application/vnd.jupyter.widget-state+json": {
    "state": {
     "2f553a2051914c668d0be5997661a7ac": {
      "model_module": "@jupyter-widgets/base",
      "model_module_version": "2.0.0",
      "model_name": "LayoutModel",
      "state": {
       "_model_module": "@jupyter-widgets/base",
       "_model_module_version": "2.0.0",
       "_model_name": "LayoutModel",
       "_view_count": null,
       "_view_module": "@jupyter-widgets/base",
       "_view_module_version": "2.0.0",
       "_view_name": "LayoutView",
       "align_content": null,
       "align_items": null,
       "align_self": null,
       "border_bottom": null,
       "border_left": null,
       "border_right": null,
       "border_top": null,
       "bottom": null,
       "display": null,
       "flex": null,
       "flex_flow": null,
       "grid_area": null,
       "grid_auto_columns": null,
       "grid_auto_flow": null,
       "grid_auto_rows": null,
       "grid_column": null,
       "grid_gap": null,
       "grid_row": null,
       "grid_template_areas": null,
       "grid_template_columns": null,
       "grid_template_rows": null,
       "height": null,
       "justify_content": null,
       "justify_items": null,
       "left": null,
       "margin": null,
       "max_height": null,
       "max_width": null,
       "min_height": null,
       "min_width": null,
       "object_fit": null,
       "object_position": null,
       "order": null,
       "overflow": null,
       "padding": null,
       "right": null,
       "top": null,
       "visibility": null,
       "width": null
      }
     },
     "39c59578fe924fd78c4df90f7879f003": {
      "model_module": "@jupyter-widgets/base",
      "model_module_version": "2.0.0",
      "model_name": "LayoutModel",
      "state": {
       "_model_module": "@jupyter-widgets/base",
       "_model_module_version": "2.0.0",
       "_model_name": "LayoutModel",
       "_view_count": null,
       "_view_module": "@jupyter-widgets/base",
       "_view_module_version": "2.0.0",
       "_view_name": "LayoutView",
       "align_content": null,
       "align_items": null,
       "align_self": null,
       "border_bottom": null,
       "border_left": null,
       "border_right": null,
       "border_top": null,
       "bottom": null,
       "display": null,
       "flex": null,
       "flex_flow": null,
       "grid_area": null,
       "grid_auto_columns": null,
       "grid_auto_flow": null,
       "grid_auto_rows": null,
       "grid_column": null,
       "grid_gap": null,
       "grid_row": null,
       "grid_template_areas": null,
       "grid_template_columns": null,
       "grid_template_rows": null,
       "height": null,
       "justify_content": null,
       "justify_items": null,
       "left": null,
       "margin": null,
       "max_height": null,
       "max_width": null,
       "min_height": null,
       "min_width": null,
       "object_fit": null,
       "object_position": null,
       "order": null,
       "overflow": null,
       "padding": null,
       "right": null,
       "top": null,
       "visibility": null,
       "width": null
      }
     },
     "3a83461f9b0e4311969fba4246916247": {
      "model_module": "@jupyter-widgets/base",
      "model_module_version": "2.0.0",
      "model_name": "LayoutModel",
      "state": {
       "_model_module": "@jupyter-widgets/base",
       "_model_module_version": "2.0.0",
       "_model_name": "LayoutModel",
       "_view_count": null,
       "_view_module": "@jupyter-widgets/base",
       "_view_module_version": "2.0.0",
       "_view_name": "LayoutView",
       "align_content": null,
       "align_items": null,
       "align_self": null,
       "border_bottom": null,
       "border_left": null,
       "border_right": null,
       "border_top": null,
       "bottom": null,
       "display": null,
       "flex": null,
       "flex_flow": null,
       "grid_area": null,
       "grid_auto_columns": null,
       "grid_auto_flow": null,
       "grid_auto_rows": null,
       "grid_column": null,
       "grid_gap": null,
       "grid_row": null,
       "grid_template_areas": null,
       "grid_template_columns": null,
       "grid_template_rows": null,
       "height": null,
       "justify_content": null,
       "justify_items": null,
       "left": null,
       "margin": null,
       "max_height": null,
       "max_width": null,
       "min_height": null,
       "min_width": null,
       "object_fit": null,
       "object_position": null,
       "order": null,
       "overflow": null,
       "padding": null,
       "right": null,
       "top": null,
       "visibility": null,
       "width": null
      }
     },
     "4a4edf4b20624a01bfdefa1778632074": {
      "model_module": "@jupyter-widgets/controls",
      "model_module_version": "2.0.0",
      "model_name": "ProgressStyleModel",
      "state": {
       "_model_module": "@jupyter-widgets/controls",
       "_model_module_version": "2.0.0",
       "_model_name": "ProgressStyleModel",
       "_view_count": null,
       "_view_module": "@jupyter-widgets/base",
       "_view_module_version": "2.0.0",
       "_view_name": "StyleView",
       "bar_color": null,
       "description_width": ""
      }
     },
     "572a6d721bf84ab9a7c627c46f0c5c3a": {
      "model_module": "@jupyter-widgets/controls",
      "model_module_version": "2.0.0",
      "model_name": "HBoxModel",
      "state": {
       "_dom_classes": [],
       "_model_module": "@jupyter-widgets/controls",
       "_model_module_version": "2.0.0",
       "_model_name": "HBoxModel",
       "_view_count": null,
       "_view_module": "@jupyter-widgets/controls",
       "_view_module_version": "2.0.0",
       "_view_name": "HBoxView",
       "box_style": "",
       "children": [
        "IPY_MODEL_5cb4d105e0774b8aa19563bedf9f634f",
        "IPY_MODEL_9feb372758ee4526a18cef60bb1f3b52",
        "IPY_MODEL_5c7aec9557e4414bb51f941de8a0bd81"
       ],
       "layout": "IPY_MODEL_667a29839237438cb9c33acbf6beea21",
       "tabbable": null,
       "tooltip": null
      }
     },
     "5c7aec9557e4414bb51f941de8a0bd81": {
      "model_module": "@jupyter-widgets/controls",
      "model_module_version": "2.0.0",
      "model_name": "HTMLModel",
      "state": {
       "_dom_classes": [],
       "_model_module": "@jupyter-widgets/controls",
       "_model_module_version": "2.0.0",
       "_model_name": "HTMLModel",
       "_view_count": null,
       "_view_module": "@jupyter-widgets/controls",
       "_view_module_version": "2.0.0",
       "_view_name": "HTMLView",
       "description": "",
       "description_allow_html": false,
       "layout": "IPY_MODEL_3a83461f9b0e4311969fba4246916247",
       "placeholder": "​",
       "style": "IPY_MODEL_df9bfb295442401388b7e239a7812169",
       "tabbable": null,
       "tooltip": null,
       "value": " 86.5M/86.5M [00:00&lt;00:00, 234MB/s]"
      }
     },
     "5cb4d105e0774b8aa19563bedf9f634f": {
      "model_module": "@jupyter-widgets/controls",
      "model_module_version": "2.0.0",
      "model_name": "HTMLModel",
      "state": {
       "_dom_classes": [],
       "_model_module": "@jupyter-widgets/controls",
       "_model_module_version": "2.0.0",
       "_model_name": "HTMLModel",
       "_view_count": null,
       "_view_module": "@jupyter-widgets/controls",
       "_view_module_version": "2.0.0",
       "_view_name": "HTMLView",
       "description": "",
       "description_allow_html": false,
       "layout": "IPY_MODEL_39c59578fe924fd78c4df90f7879f003",
       "placeholder": "​",
       "style": "IPY_MODEL_716375f8833d4b3580e79ce456b6c06d",
       "tabbable": null,
       "tooltip": null,
       "value": "model.safetensors: 100%"
      }
     },
     "667a29839237438cb9c33acbf6beea21": {
      "model_module": "@jupyter-widgets/base",
      "model_module_version": "2.0.0",
      "model_name": "LayoutModel",
      "state": {
       "_model_module": "@jupyter-widgets/base",
       "_model_module_version": "2.0.0",
       "_model_name": "LayoutModel",
       "_view_count": null,
       "_view_module": "@jupyter-widgets/base",
       "_view_module_version": "2.0.0",
       "_view_name": "LayoutView",
       "align_content": null,
       "align_items": null,
       "align_self": null,
       "border_bottom": null,
       "border_left": null,
       "border_right": null,
       "border_top": null,
       "bottom": null,
       "display": null,
       "flex": null,
       "flex_flow": null,
       "grid_area": null,
       "grid_auto_columns": null,
       "grid_auto_flow": null,
       "grid_auto_rows": null,
       "grid_column": null,
       "grid_gap": null,
       "grid_row": null,
       "grid_template_areas": null,
       "grid_template_columns": null,
       "grid_template_rows": null,
       "height": null,
       "justify_content": null,
       "justify_items": null,
       "left": null,
       "margin": null,
       "max_height": null,
       "max_width": null,
       "min_height": null,
       "min_width": null,
       "object_fit": null,
       "object_position": null,
       "order": null,
       "overflow": null,
       "padding": null,
       "right": null,
       "top": null,
       "visibility": null,
       "width": null
      }
     },
     "716375f8833d4b3580e79ce456b6c06d": {
      "model_module": "@jupyter-widgets/controls",
      "model_module_version": "2.0.0",
      "model_name": "HTMLStyleModel",
      "state": {
       "_model_module": "@jupyter-widgets/controls",
       "_model_module_version": "2.0.0",
       "_model_name": "HTMLStyleModel",
       "_view_count": null,
       "_view_module": "@jupyter-widgets/base",
       "_view_module_version": "2.0.0",
       "_view_name": "StyleView",
       "background": null,
       "description_width": "",
       "font_size": null,
       "text_color": null
      }
     },
     "9feb372758ee4526a18cef60bb1f3b52": {
      "model_module": "@jupyter-widgets/controls",
      "model_module_version": "2.0.0",
      "model_name": "FloatProgressModel",
      "state": {
       "_dom_classes": [],
       "_model_module": "@jupyter-widgets/controls",
       "_model_module_version": "2.0.0",
       "_model_name": "FloatProgressModel",
       "_view_count": null,
       "_view_module": "@jupyter-widgets/controls",
       "_view_module_version": "2.0.0",
       "_view_name": "ProgressView",
       "bar_style": "success",
       "description": "",
       "description_allow_html": false,
       "layout": "IPY_MODEL_2f553a2051914c668d0be5997661a7ac",
       "max": 86523256.0,
       "min": 0.0,
       "orientation": "horizontal",
       "style": "IPY_MODEL_4a4edf4b20624a01bfdefa1778632074",
       "tabbable": null,
       "tooltip": null,
       "value": 86523256.0
      }
     },
     "df9bfb295442401388b7e239a7812169": {
      "model_module": "@jupyter-widgets/controls",
      "model_module_version": "2.0.0",
      "model_name": "HTMLStyleModel",
      "state": {
       "_model_module": "@jupyter-widgets/controls",
       "_model_module_version": "2.0.0",
       "_model_name": "HTMLStyleModel",
       "_view_count": null,
       "_view_module": "@jupyter-widgets/base",
       "_view_module_version": "2.0.0",
       "_view_name": "StyleView",
       "background": null,
       "description_width": "",
       "font_size": null,
       "text_color": null
      }
     }
    },
    "version_major": 2,
    "version_minor": 0
   }
  }
 },
 "nbformat": 4,
 "nbformat_minor": 5
}
